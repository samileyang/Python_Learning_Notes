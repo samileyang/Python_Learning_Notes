{
 "cells": [
  {
   "cell_type": "code",
   "execution_count": 9,
   "metadata": {},
   "outputs": [
    {
     "name": "stdout",
     "output_type": "stream",
     "text": [
      "[4, 7, 3, 67, 34, 1, 8]\n",
      "[4, 3, 7, 67, 34, 1, 8]\n",
      "[4, 3, 7, 67, 34, 1, 8]\n",
      "[4, 3, 7, 34, 67, 1, 8]\n",
      "[4, 3, 7, 34, 1, 67, 8]\n",
      "[4, 3, 7, 34, 1, 8, 67]\n",
      "[3, 4, 7, 34, 1, 8, 67]\n",
      "[3, 4, 7, 34, 1, 8, 67]\n",
      "[3, 4, 7, 34, 1, 8, 67]\n",
      "[3, 4, 7, 1, 34, 8, 67]\n",
      "[3, 4, 7, 1, 8, 34, 67]\n",
      "[3, 4, 7, 1, 8, 34, 67]\n",
      "[3, 4, 7, 1, 8, 34, 67]\n",
      "[3, 4, 1, 7, 8, 34, 67]\n",
      "[3, 4, 1, 7, 8, 34, 67]\n",
      "[3, 4, 1, 7, 8, 34, 67]\n",
      "[3, 1, 4, 7, 8, 34, 67]\n",
      "[3, 1, 4, 7, 8, 34, 67]\n",
      "[1, 3, 4, 7, 8, 34, 67]\n",
      "[1, 3, 4, 7, 8, 34, 67]\n",
      "[1, 3, 4, 7, 8, 34, 67]\n"
     ]
    },
    {
     "data": {
      "text/plain": [
       "[1, 3, 4, 7, 8, 34, 67]"
      ]
     },
     "execution_count": 9,
     "metadata": {},
     "output_type": "execute_result"
    }
   ],
   "source": [
    "arr = [7, 4, 3, 67, 34, 1, 8]\n",
    "def bubble(arr):\n",
    "    # 遍历所有数组元素\n",
    "    n=len(arr)\n",
    "    for i in range(n):\n",
    "        # Last i elements are already in place\n",
    "        for j in range(0, n-i-1):\n",
    "            if arr[j] > arr[j+1] :\n",
    "                arr[j], arr[j+1] = arr[j+1], arr[j]\n",
    "            print(arr)\n",
    "    return arr\n",
    "bubble(arr)"
   ]
  },
  {
   "cell_type": "code",
   "execution_count": 8,
   "metadata": {},
   "outputs": [
    {
     "name": "stdout",
     "output_type": "stream",
     "text": [
      "[4, 7, 3, 67, 34, 1, 8]\n",
      "[4, 3, 7, 67, 34, 1, 8]\n",
      "[4, 3, 7, 67, 34, 1, 8]\n",
      "[4, 3, 7, 34, 67, 1, 8]\n",
      "[4, 3, 7, 34, 1, 67, 8]\n",
      "[4, 3, 7, 34, 1, 8, 67]\n",
      "[3, 4, 7, 34, 1, 8, 67]\n",
      "[3, 4, 7, 34, 1, 8, 67]\n",
      "[3, 4, 7, 34, 1, 8, 67]\n",
      "[3, 4, 7, 1, 34, 8, 67]\n",
      "[3, 4, 7, 1, 8, 34, 67]\n",
      "[3, 4, 7, 1, 8, 34, 67]\n",
      "[3, 4, 7, 1, 8, 34, 67]\n",
      "[3, 4, 1, 7, 8, 34, 67]\n",
      "[3, 4, 1, 7, 8, 34, 67]\n",
      "[3, 4, 1, 7, 8, 34, 67]\n",
      "[3, 1, 4, 7, 8, 34, 67]\n",
      "[3, 1, 4, 7, 8, 34, 67]\n",
      "[1, 3, 4, 7, 8, 34, 67]\n",
      "[1, 3, 4, 7, 8, 34, 67]\n",
      "[1, 3, 4, 7, 8, 34, 67]\n"
     ]
    },
    {
     "data": {
      "text/plain": [
       "[1, 3, 4, 7, 8, 34, 67]"
      ]
     },
     "execution_count": 8,
     "metadata": {},
     "output_type": "execute_result"
    }
   ],
   "source": [
    "arr = [7, 4, 3, 67, 34, 1, 8]\n",
    "def bubble_back(arr):\n",
    "    for j in range(len(arr) - 1, 0, -1):  # [n-1, n-2, ....2, 1]\n",
    "        for i in range(0, j):\n",
    "            if arr[i] > arr[i + 1]:\n",
    "                arr[i], arr[i + 1] = arr[i + 1], arr[i]\n",
    "            print(arr)\n",
    "    return arr\n",
    "bubble_back(arr)"
   ]
  },
  {
   "cell_type": "code",
   "execution_count": 11,
   "metadata": {},
   "outputs": [
    {
     "name": "stdout",
     "output_type": "stream",
     "text": [
      "[4, 7, 3, 67, 34, 1, 8]\n",
      "[4, 3, 7, 67, 34, 1, 8]\n",
      "[4, 3, 7, 67, 34, 1, 8]\n",
      "[4, 3, 7, 34, 67, 1, 8]\n",
      "[4, 3, 7, 34, 1, 67, 8]\n",
      "[4, 3, 7, 34, 1, 8, 67]\n",
      "[3, 4, 7, 34, 1, 8, 67]\n",
      "[3, 4, 7, 34, 1, 8, 67]\n",
      "[3, 4, 7, 34, 1, 8, 67]\n",
      "[3, 4, 7, 1, 34, 8, 67]\n",
      "[3, 4, 7, 1, 8, 34, 67]\n",
      "[3, 4, 7, 1, 8, 34, 67]\n",
      "[3, 4, 7, 1, 8, 34, 67]\n",
      "[3, 4, 1, 7, 8, 34, 67]\n",
      "[3, 4, 1, 7, 8, 34, 67]\n",
      "[3, 4, 1, 7, 8, 34, 67]\n",
      "[3, 1, 4, 7, 8, 34, 67]\n",
      "[3, 1, 4, 7, 8, 34, 67]\n",
      "[1, 3, 4, 7, 8, 34, 67]\n",
      "[1, 3, 4, 7, 8, 34, 67]\n",
      "[1, 3, 4, 7, 8, 34, 67]\n"
     ]
    },
    {
     "data": {
      "text/plain": [
       "[1, 3, 4, 7, 8, 34, 67]"
      ]
     },
     "execution_count": 11,
     "metadata": {},
     "output_type": "execute_result"
    }
   ],
   "source": [
    "arr = [7, 4, 3, 67, 34, 1, 8]\n",
    "def bubble_count(arr):\n",
    "    for j in range(len(arr)-1, 0, -1):\n",
    "        count = 0\n",
    "        for i in range(0, j):\n",
    "            if arr[i] > arr[i + 1]:\n",
    "                arr[i], arr[i + 1] = arr[i + 1], arr[i]\n",
    "                count += 1\n",
    "            print(arr)\n",
    "        if count == 0:\n",
    "            return arr\n",
    "bubble_count(arr)"
   ]
  },
  {
   "cell_type": "code",
   "execution_count": null,
   "metadata": {},
   "outputs": [],
   "source": []
  }
 ],
 "metadata": {
  "kernelspec": {
   "display_name": "Python 3",
   "language": "python",
   "name": "python3"
  },
  "language_info": {
   "codemirror_mode": {
    "name": "ipython",
    "version": 3
   },
   "file_extension": ".py",
   "mimetype": "text/x-python",
   "name": "python",
   "nbconvert_exporter": "python",
   "pygments_lexer": "ipython3",
   "version": "3.7.0"
  }
 },
 "nbformat": 4,
 "nbformat_minor": 2
}
