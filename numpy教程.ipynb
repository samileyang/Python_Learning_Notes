{
 "cells": [
  {
   "cell_type": "code",
   "execution_count": 1,
   "metadata": {},
   "outputs": [],
   "source": [
    "import numpy as np"
   ]
  },
  {
   "cell_type": "code",
   "execution_count": null,
   "metadata": {},
   "outputs": [],
   "source": [
    "array = np.array([[1, 2, 3],\n",
    "                  [2, 3, 4]])\n",
    "print(array)#numpy生成的array\n",
    "print(array.dtype)#每个元素的类型\n",
    "print(\"number of dim\", array.ndim)# array的维度\n",
    "print('shape:', array.shape)#形状，　两行三列。\n",
    "print('size:', array.size)#array的大小＝array中所有元素的个数"
   ]
  },
  {
   "cell_type": "code",
   "execution_count": 4,
   "metadata": {},
   "outputs": [
    {
     "name": "stdout",
     "output_type": "stream",
     "text": [
      "[[0 0 0]\n",
      " [0 0 0]]\n"
     ]
    }
   ],
   "source": [
    "a1 = np.zeros((2,3),dtype = np.int)\n",
    "print(a1)"
   ]
  },
  {
   "cell_type": "code",
   "execution_count": 7,
   "metadata": {},
   "outputs": [
    {
     "name": "stdout",
     "output_type": "stream",
     "text": [
      "[[0. 0. 0. 0.]\n",
      " [0. 0. 0. 0.]\n",
      " [0. 0. 0. 0.]]\n"
     ]
    }
   ],
   "source": [
    "a3 = np.empty((3,4),dtype = np.float)\n",
    "print(a3)"
   ]
  },
  {
   "cell_type": "code",
   "execution_count": 8,
   "metadata": {},
   "outputs": [
    {
     "name": "stdout",
     "output_type": "stream",
     "text": [
      "[[0 0 0]\n",
      " [0 0 0]]\n"
     ]
    }
   ],
   "source": [
    "a1 = np.zeros((2,3),dtype = np.int)\n",
    "print(a1)"
   ]
  },
  {
   "cell_type": "code",
   "execution_count": 10,
   "metadata": {},
   "outputs": [
    {
     "name": "stdout",
     "output_type": "stream",
     "text": [
      "[[1 1 1 1]\n",
      " [1 1 1 1]\n",
      " [1 1 1 1]]\n"
     ]
    }
   ],
   "source": [
    "a2 = np.ones((3,4),dtype = np.int16)\n",
    "print(a2)"
   ]
  },
  {
   "cell_type": "code",
   "execution_count": 12,
   "metadata": {},
   "outputs": [
    {
     "data": {
      "text/plain": [
       "array([10, 12, 14, 16, 18])"
      ]
     },
     "execution_count": 12,
     "metadata": {},
     "output_type": "execute_result"
    }
   ],
   "source": [
    "a4 = np.arange(10,20,2) #步长\n",
    "a4"
   ]
  },
  {
   "cell_type": "code",
   "execution_count": 13,
   "metadata": {},
   "outputs": [
    {
     "name": "stdout",
     "output_type": "stream",
     "text": [
      "[[ 0  1  2  3]\n",
      " [ 4  5  6  7]\n",
      " [ 8  9 10 11]]\n"
     ]
    }
   ],
   "source": [
    "a5 = np.arange(12).reshape((3,4))\n",
    "print(a5)"
   ]
  },
  {
   "cell_type": "code",
   "execution_count": 14,
   "metadata": {},
   "outputs": [
    {
     "name": "stdout",
     "output_type": "stream",
     "text": [
      "[[ 1.  4.]\n",
      " [ 7. 10.]]\n"
     ]
    }
   ],
   "source": [
    "a6 = np.linspace(1,10,4).reshape((2,2)) #个数\n",
    "print(a6)"
   ]
  },
  {
   "cell_type": "code",
   "execution_count": 3,
   "metadata": {},
   "outputs": [
    {
     "name": "stdout",
     "output_type": "stream",
     "text": [
      "a: [10 20 30 40]\n",
      "b: [0 1 2 3]\n",
      "c: [10 21 32 43]\n",
      "c1: [10 19 28 37]\n"
     ]
    }
   ],
   "source": [
    "import numpy as np\n",
    "a = np.array([10,20,30,40])\n",
    "b = np.arange(4)\n",
    "print(\"a:\",a)\n",
    "print(\"b:\",b)\n",
    "c = a + b\n",
    "print(\"c:\",c)\n",
    "c1 = a - b\n",
    "print(\"c1:\",c1)\n"
   ]
  },
  {
   "cell_type": "code",
   "execution_count": 5,
   "metadata": {},
   "outputs": [
    {
     "name": "stdout",
     "output_type": "stream",
     "text": [
      "aa: [[ 1  2  3  4]\n",
      " [11 22 33 44]]\n",
      "bb: [0 1 2 3]\n",
      "a+b: [[ 1  3  5  7]\n",
      " [11 23 35 47]]\n"
     ]
    }
   ],
   "source": [
    "aa = np.array([[1,2,3,4],\n",
    "              [11,22,33,44]])\n",
    "bb = np.arange(4)\n",
    "print(\"aa:\", aa)\n",
    "print(\"bb:\", bb)\n",
    "print(\"a+b:\", aa+bb)"
   ]
  },
  {
   "cell_type": "code",
   "execution_count": 6,
   "metadata": {},
   "outputs": [
    {
     "name": "stdout",
     "output_type": "stream",
     "text": [
      "c2: [0 1 4 9]\n",
      "c3: [-5.44021111  9.12945251 -9.88031624  7.4511316 ]\n",
      "b: [0 1 2 3]\n",
      "b: [ True  True  True False]\n",
      "b: [False False False  True]\n"
     ]
    }
   ],
   "source": [
    "a = np.array([10, 20, 30, 40])\n",
    "b = np.arange(4)\n",
    "c2 = b**2  # 平方\n",
    "print(\"c2:\", c2)\n",
    "c3 = 10*np.sin(a)\n",
    "print(\"c3:\", c3)\n",
    "print(\"b:\", b)\n",
    "print(\"b:\", b < 3) #　b中小于３的都为TRUE\n",
    "print(\"b:\", b == 3) # b中等于３的为TRUE"
   ]
  },
  {
   "cell_type": "code",
   "execution_count": 7,
   "metadata": {},
   "outputs": [
    {
     "name": "stdout",
     "output_type": "stream",
     "text": [
      "d: [[1 2]\n",
      " [3 4]]\n",
      "e: [[1 3]\n",
      " [5 7]]\n",
      "[[11 17]\n",
      " [23 37]]\n",
      "[[11 17]\n",
      " [23 37]]\n"
     ]
    }
   ],
   "source": [
    "d = np.array([[1, 2],\n",
    "             [3, 4]])\n",
    "e = np.arange(1, 8, 2).reshape((2, 2))\n",
    "print(\"d:\", d)\n",
    "print(\"e:\", e)\n",
    "print(np.dot(d, e))\n",
    "print(d.dot(e))"
   ]
  },
  {
   "cell_type": "code",
   "execution_count": 5,
   "metadata": {},
   "outputs": [
    {
     "name": "stdout",
     "output_type": "stream",
     "text": [
      "[[0.48706364 0.83402375 0.87794169 0.08789477]\n",
      " [0.83136976 0.83819156 0.88011567 0.13606005]]\n",
      "4.972660874225259\n",
      "[1.31843339 1.67221531 1.75805735 0.22395482]\n",
      "0.08789477000240553\n",
      "==========\n",
      "[1.31843339 1.67221531 1.75805735 0.22395482]\n",
      "[0.08789477 0.13606005]\n",
      "[0.83136976 0.83819156 0.88011567 0.13606005]\n"
     ]
    }
   ],
   "source": [
    "#随机数\n",
    "f = np.random.random((2,4))\n",
    "print(f)\n",
    "print(np.sum(f))\n",
    "print(sum(f))\n",
    "print(np.min(f))\n",
    "print(\"=\"*10)\n",
    "print(np.sum(f, axis=0))\n",
    "print(np.min(f, axis=1))\n",
    "print(np.max(f, axis=0))"
   ]
  },
  {
   "cell_type": "code",
   "execution_count": 8,
   "metadata": {},
   "outputs": [
    {
     "name": "stdout",
     "output_type": "stream",
     "text": [
      "[[14 13 12 11]\n",
      " [10  9  8  7]\n",
      " [ 6  5  4  3]]\n",
      "sort: [[11 12 13 14]\n",
      " [ 7  8  9 10]\n",
      " [ 3  4  5  6]]\n"
     ]
    }
   ],
   "source": [
    "c = np.arange(14, 2, -1).reshape((3, 4))\n",
    "print(c)\n",
    "print(\"sort:\", np.sort(c))\n",
    "print(c.T)\n",
    "print(\"clip:\",np.clip(c, 5, 9))"
   ]
  },
  {
   "cell_type": "code",
   "execution_count": 4,
   "metadata": {},
   "outputs": [
    {
     "name": "stdout",
     "output_type": "stream",
     "text": [
      "a: [[ 2  3  4  5]\n",
      " [ 6  7  8  9]\n",
      " [10 11 12 13]]\n",
      "average: 7.5\n",
      "median: 7.5\n",
      "cumsum: [ 2  5  9 14 20 27 35 44 54 65 77 90]\n",
      "diff: [[1 1 1]\n",
      " [1 1 1]\n",
      " [1 1 1]]\n"
     ]
    }
   ],
   "source": [
    "a = np.arange(2, 14).reshape((3, 4))\n",
    "print(\"a:\",a)\n",
    "print(\"average:\",np.average(a))\n",
    "print(\"median:\",np.median(a))\n",
    "print(\"cumsum:\", np.cumsum(a))\n",
    "print(\"diff:\", np.diff(a))"
   ]
  },
  {
   "cell_type": "code",
   "execution_count": 2,
   "metadata": {},
   "outputs": [
    {
     "name": "stdout",
     "output_type": "stream",
     "text": [
      "argmin: 2\n",
      "axis0: [0 2 0 1]\n",
      "axis1: [2 3 1]\n",
      "argmax: 11\n",
      "zero: (array([0, 0, 0, 1, 1, 1, 1, 2, 2, 2, 2], dtype=int64), array([0, 1, 3, 0, 1, 2, 3, 0, 1, 2, 3], dtype=int64))\n"
     ]
    },
    {
     "data": {
      "text/plain": [
       "'\\nargmin/argmax都是返回最小值/最大值的索引的函数\\n'"
      ]
     },
     "execution_count": 2,
     "metadata": {},
     "output_type": "execute_result"
    }
   ],
   "source": [
    "a = np.array([[2, 6, 0, 4],\n",
    "             [4, 8, 9, 1],\n",
    "             [10, 2, 3, 11]])\n",
    "print(\"argmin:\", np.argmin(a))\n",
    "print(\"axis0:\", np.argmin(a, axis=0))\n",
    "print(\"axis1:\", np.argmin(a, axis=1))\n",
    "print(\"argmax:\", np.argmax(a))\n",
    "print(\"zero:\", np.nonzero(a))\n",
    "'''\n",
    "argmin/argmax都是返回最小值/最大值的索引的函数\n",
    "'''"
   ]
  },
  {
   "cell_type": "code",
   "execution_count": 4,
   "metadata": {},
   "outputs": [
    {
     "data": {
      "text/plain": [
       "array([[ 3,  4,  5,  6],\n",
       "       [ 7,  8,  9, 10],\n",
       "       [11, 12, 13, 14]])"
      ]
     },
     "execution_count": 4,
     "metadata": {},
     "output_type": "execute_result"
    }
   ],
   "source": [
    "a = np.arange(3, 15).reshape((3, 4))\n",
    "a"
   ]
  },
  {
   "cell_type": "code",
   "execution_count": 10,
   "metadata": {},
   "outputs": [
    {
     "name": "stdout",
     "output_type": "stream",
     "text": [
      "[ 7  8  9 10]\n",
      "[ 7  8  9 10]\n",
      "[ 7  8  9 10]\n",
      "12\n",
      "12\n",
      "[ 4  8 12]\n",
      "[[ 4]\n",
      " [ 8]\n",
      " [12]]\n",
      "[[ 4  5]\n",
      " [ 8  9]\n",
      " [12 13]]\n",
      "[8 9]\n"
     ]
    }
   ],
   "source": [
    "print(a[1])\n",
    "print(a[:][1])\n",
    "print(a[:][1])#索引为1的行，同上\n",
    "print(a[2][1])#和数组一样的表示 \n",
    "print(a[2, 1])#同上，这才是比较标准的array的索引表示，前面是行后面是列的索引\n",
    "print(a[:, 1])#索引为１的列,生成为行向量\n",
    "print(a[:, 1:2])#索引为１的列，生成为列向量\n",
    "print(a[:, 1:3])\n",
    "print(a[1, 1:3])#为上面a[:, 1:3]的索引为１的行向量"
   ]
  },
  {
   "cell_type": "code",
   "execution_count": 5,
   "metadata": {},
   "outputs": [
    {
     "name": "stdout",
     "output_type": "stream",
     "text": [
      "[[ 3  4  5  6]\n",
      " [ 7  8  9 10]\n",
      " [11 12 13 14]]\n",
      "row\n",
      "[3 4 5 6]\n",
      "[ 7  8  9 10]\n",
      "[11 12 13 14]\n",
      "column\n",
      "[ 3  7 11]\n",
      "[ 4  8 12]\n",
      "[ 5  9 13]\n",
      "[ 6 10 14]\n",
      "==================================================\n",
      "[ 3  4  5  6  7  8  9 10 11 12 13 14]\n",
      "[[1 2 3]]\n",
      "[1 2 3]\n",
      "3\n",
      "4\n",
      "5\n",
      "6\n",
      "7\n",
      "8\n",
      "9\n",
      "10\n",
      "11\n",
      "12\n",
      "13\n",
      "14\n"
     ]
    }
   ],
   "source": [
    "a = np.arange(3, 15).reshape((3, 4))# 数据都是下取上差一个取到。\n",
    "print(a)\n",
    "print(\"row\")\n",
    "for row in a:\n",
    "    print(row)\n",
    "print(\"column\")\n",
    "for column in a.T:\n",
    "    print(column)\n",
    "\n",
    "print(\"=\"*50)\n",
    "print(a.flatten())#所有元素变成yiwei\n",
    "b = np.array([[1,2,3]])\n",
    "print(b)\n",
    "print(b.flatten())\n",
    "for item in a.flat:\n",
    "    print(item)\n",
    "\n",
    "\n",
    "\n",
    "\n"
   ]
  },
  {
   "cell_type": "code",
   "execution_count": 2,
   "metadata": {},
   "outputs": [
    {
     "name": "stdout",
     "output_type": "stream",
     "text": [
      "a: [1 1 2]\n",
      "b: [2 3 4]\n",
      "c: [[1 1 2]\n",
      " [2 3 4]]\n",
      "a,c shape: (3,) (2, 3)\n",
      "d: [1 1 2 2 3 4]\n",
      "(6,)\n",
      "[1 1 2]\n",
      "(1, 3)\n",
      "(3, 1)\n",
      "[[1]\n",
      " [1]\n",
      " [2]]\n"
     ]
    }
   ],
   "source": [
    "a = np.array([1, 1, 2])\n",
    "b = np.array([2, 3, 4])\n",
    "\n",
    "c = np.vstack(( a , b ))\n",
    "print(\"a:\",a)\n",
    "print(\"b:\",b)\n",
    "print(\"c:\",c)\n",
    "print(\"a,c shape:\",a.shape,c.shape)\n",
    "\n",
    "d = np.hstack((a, b))\n",
    "print(\"d:\",d)\n",
    "print(d.shape)\n",
    "print(a.T)\n",
    "print(a[np.newaxis, : ].shape)\n",
    "print(a[ : ,np.newaxis].shape)\n",
    "print(a[ : ,np.newaxis])\n"
   ]
  },
  {
   "cell_type": "code",
   "execution_count": 4,
   "metadata": {},
   "outputs": [
    {
     "name": "stdout",
     "output_type": "stream",
     "text": [
      "[[1]\n",
      " [1]\n",
      " [2]\n",
      " [2]\n",
      " [3]\n",
      " [4]\n",
      " [2]\n",
      " [3]\n",
      " [4]]\n",
      "[[1 2 2]\n",
      " [1 3 3]\n",
      " [2 4 4]]\n"
     ]
    }
   ],
   "source": [
    "a = np.array([1,1,2])[:,np.newaxis]\n",
    "b = np.array([2,3,4])[:,np.newaxis]\n",
    "\n",
    "c = np.concatenate((a,b,b),axis = 0)\n",
    "print(c)\n",
    "c = np.concatenate((a, b, b), axis=1) #多向量融合\n",
    "print(c)"
   ]
  },
  {
   "cell_type": "code",
   "execution_count": 3,
   "metadata": {},
   "outputs": [
    {
     "name": "stdout",
     "output_type": "stream",
     "text": [
      "[[ 0  1  2  3]\n",
      " [ 4  5  6  7]\n",
      " [ 8  9 10 11]]\n",
      "equally separate\n",
      "vertical: [array([[0, 1],\n",
      "       [4, 5],\n",
      "       [8, 9]]), array([[ 2,  3],\n",
      "       [ 6,  7],\n",
      "       [10, 11]])]\n",
      "horizontal: [array([[0, 1, 2, 3]]), array([[4, 5, 6, 7]]), array([[ 8,  9, 10, 11]])]\n"
     ]
    }
   ],
   "source": [
    "a = np.arange(12).reshape((3,4))\n",
    "print(a)\n",
    "print(\"equally separate\")\n",
    "print(\"vertical:\",np.split(a, 2, axis = 1))\n",
    "print(\"horizontal:\",np.split(a,3, axis = 0))"
   ]
  },
  {
   "cell_type": "code",
   "execution_count": 4,
   "metadata": {},
   "outputs": [
    {
     "name": "stdout",
     "output_type": "stream",
     "text": [
      "[array([[0, 1],\n",
      "       [4, 5],\n",
      "       [8, 9]]), array([[ 2],\n",
      "       [ 6],\n",
      "       [10]]), array([[ 3],\n",
      "       [ 7],\n",
      "       [11]])]\n",
      "vertical_a: [array([[0, 1, 2, 3]]), array([[4, 5, 6, 7]]), array([[ 8,  9, 10, 11]])]\n",
      "horizontal_a: [array([[0, 1],\n",
      "       [4, 5],\n",
      "       [8, 9]]), array([[ 2,  3],\n",
      "       [ 6,  7],\n",
      "       [10, 11]])]\n"
     ]
    }
   ],
   "source": [
    "#unequal\n",
    "print(np.array_split(a,3,axis = 1))\n",
    "print(\"vertical_a:\",np.vsplit(a,3))\n",
    "print(\"horizontal_a:\",np.hsplit(a,2))\n"
   ]
  },
  {
   "cell_type": "code",
   "execution_count": null,
   "metadata": {},
   "outputs": [],
   "source": []
  }
 ],
 "metadata": {
  "kernelspec": {
   "display_name": "Python 3",
   "language": "python",
   "name": "python3"
  },
  "language_info": {
   "codemirror_mode": {
    "name": "ipython",
    "version": 3
   },
   "file_extension": ".py",
   "mimetype": "text/x-python",
   "name": "python",
   "nbconvert_exporter": "python",
   "pygments_lexer": "ipython3",
   "version": "3.7.0"
  }
 },
 "nbformat": 4,
 "nbformat_minor": 2
}
