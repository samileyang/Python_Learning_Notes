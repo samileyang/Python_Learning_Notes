{
 "cells": [
  {
   "cell_type": "code",
   "execution_count": 1,
   "metadata": {},
   "outputs": [
    {
     "name": "stdout",
     "output_type": "stream",
     "text": [
      "[[1 2 3]\n",
      " [2 3 4]]\n",
      "int32\n",
      "number of dim 2\n",
      "shape: (2, 3)\n",
      "size: 6\n"
     ]
    }
   ],
   "source": [
    "import numpy as np\n",
    "\n",
    "array = np.array([[1, 2, 3],\n",
    "                  [2, 3, 4]])\n",
    "print(array)#numpy生成的array\n",
    "print(array.dtype)#每个元素的类型\n",
    "print(\"number of dim\", array.ndim)# array的维度\n",
    "print('shape:', array.shape)#形状，　两行三列。\n",
    "print('size:', array.size)#array的大小＝array中所有元素的个数"
   ]
  },
  {
   "cell_type": "code",
   "execution_count": 4,
   "metadata": {},
   "outputs": [
    {
     "name": "stdout",
     "output_type": "stream",
     "text": [
      "[[0 0 0]\n",
      " [0 0 0]]\n"
     ]
    }
   ],
   "source": [
    "a1 = np.zeros((2,3),dtype = np.int)\n",
    "print(a1)"
   ]
  },
  {
   "cell_type": "code",
   "execution_count": 7,
   "metadata": {},
   "outputs": [
    {
     "name": "stdout",
     "output_type": "stream",
     "text": [
      "[[0. 0. 0. 0.]\n",
      " [0. 0. 0. 0.]\n",
      " [0. 0. 0. 0.]]\n"
     ]
    }
   ],
   "source": [
    "a3 = np.empty((3,4),dtype = np.float)\n",
    "print(a3)"
   ]
  },
  {
   "cell_type": "code",
   "execution_count": 8,
   "metadata": {},
   "outputs": [
    {
     "name": "stdout",
     "output_type": "stream",
     "text": [
      "[[0 0 0]\n",
      " [0 0 0]]\n"
     ]
    }
   ],
   "source": [
    "a1 = np.zeros((2,3),dtype = np.int)\n",
    "print(a1)"
   ]
  },
  {
   "cell_type": "code",
   "execution_count": 10,
   "metadata": {},
   "outputs": [
    {
     "name": "stdout",
     "output_type": "stream",
     "text": [
      "[[1 1 1 1]\n",
      " [1 1 1 1]\n",
      " [1 1 1 1]]\n"
     ]
    }
   ],
   "source": [
    "a2 = np.ones((3,4),dtype = np.int16)\n",
    "print(a2)"
   ]
  },
  {
   "cell_type": "code",
   "execution_count": 12,
   "metadata": {},
   "outputs": [
    {
     "data": {
      "text/plain": [
       "array([10, 12, 14, 16, 18])"
      ]
     },
     "execution_count": 12,
     "metadata": {},
     "output_type": "execute_result"
    }
   ],
   "source": [
    "a4 = np.arange(10,20,2) #步长\n",
    "a4"
   ]
  },
  {
   "cell_type": "code",
   "execution_count": 13,
   "metadata": {},
   "outputs": [
    {
     "name": "stdout",
     "output_type": "stream",
     "text": [
      "[[ 0  1  2  3]\n",
      " [ 4  5  6  7]\n",
      " [ 8  9 10 11]]\n"
     ]
    }
   ],
   "source": [
    "a5 = np.arange(12).reshape((3,4))\n",
    "print(a5)"
   ]
  },
  {
   "cell_type": "code",
   "execution_count": 14,
   "metadata": {},
   "outputs": [
    {
     "name": "stdout",
     "output_type": "stream",
     "text": [
      "[[ 1.  4.]\n",
      " [ 7. 10.]]\n"
     ]
    }
   ],
   "source": [
    "a6 = np.linspace(1,10,4).reshape((2,2)) #个数\n",
    "print(a6)"
   ]
  },
  {
   "cell_type": "code",
   "execution_count": 3,
   "metadata": {},
   "outputs": [
    {
     "name": "stdout",
     "output_type": "stream",
     "text": [
      "a: [10 20 30 40]\n",
      "b: [0 1 2 3]\n",
      "c: [10 21 32 43]\n",
      "c1: [10 19 28 37]\n"
     ]
    }
   ],
   "source": [
    "import numpy as np\n",
    "a = np.array([10,20,30,40])\n",
    "b = np.arange(4)\n",
    "print(\"a:\",a)\n",
    "print(\"b:\",b)\n",
    "c = a + b\n",
    "print(\"c:\",c)\n",
    "c1 = a - b\n",
    "print(\"c1:\",c1)\n"
   ]
  },
  {
   "cell_type": "code",
   "execution_count": 5,
   "metadata": {},
   "outputs": [
    {
     "name": "stdout",
     "output_type": "stream",
     "text": [
      "aa: [[ 1  2  3  4]\n",
      " [11 22 33 44]]\n",
      "bb: [0 1 2 3]\n",
      "a+b: [[ 1  3  5  7]\n",
      " [11 23 35 47]]\n"
     ]
    }
   ],
   "source": [
    "aa = np.array([[1,2,3,4],\n",
    "              [11,22,33,44]])\n",
    "bb = np.arange(4)\n",
    "print(\"aa:\", aa)\n",
    "print(\"bb:\", bb)\n",
    "print(\"a+b:\", aa+bb)"
   ]
  },
  {
   "cell_type": "code",
   "execution_count": 6,
   "metadata": {},
   "outputs": [
    {
     "name": "stdout",
     "output_type": "stream",
     "text": [
      "c2: [0 1 4 9]\n",
      "c3: [-5.44021111  9.12945251 -9.88031624  7.4511316 ]\n",
      "b: [0 1 2 3]\n",
      "b: [ True  True  True False]\n",
      "b: [False False False  True]\n"
     ]
    }
   ],
   "source": [
    "a = np.array([10, 20, 30, 40])\n",
    "b = np.arange(4)\n",
    "c2 = b**2  # 平方\n",
    "print(\"c2:\", c2)\n",
    "c3 = 10*np.sin(a)\n",
    "print(\"c3:\", c3)\n",
    "print(\"b:\", b)\n",
    "print(\"b:\", b < 3) #　b中小于３的都为TRUE\n",
    "print(\"b:\", b == 3) # b中等于３的为TRUE"
   ]
  },
  {
   "cell_type": "code",
   "execution_count": 7,
   "metadata": {},
   "outputs": [
    {
     "name": "stdout",
     "output_type": "stream",
     "text": [
      "d: [[1 2]\n",
      " [3 4]]\n",
      "e: [[1 3]\n",
      " [5 7]]\n",
      "[[11 17]\n",
      " [23 37]]\n",
      "[[11 17]\n",
      " [23 37]]\n"
     ]
    }
   ],
   "source": [
    "d = np.array([[1, 2],\n",
    "             [3, 4]])\n",
    "e = np.arange(1, 8, 2).reshape((2, 2))\n",
    "print(\"d:\", d)\n",
    "print(\"e:\", e)\n",
    "print(np.dot(d, e))\n",
    "print(d.dot(e))"
   ]
  },
  {
   "cell_type": "code",
   "execution_count": 5,
   "metadata": {},
   "outputs": [
    {
     "name": "stdout",
     "output_type": "stream",
     "text": [
      "[[0.48706364 0.83402375 0.87794169 0.08789477]\n",
      " [0.83136976 0.83819156 0.88011567 0.13606005]]\n",
      "4.972660874225259\n",
      "[1.31843339 1.67221531 1.75805735 0.22395482]\n",
      "0.08789477000240553\n",
      "==========\n",
      "[1.31843339 1.67221531 1.75805735 0.22395482]\n",
      "[0.08789477 0.13606005]\n",
      "[0.83136976 0.83819156 0.88011567 0.13606005]\n"
     ]
    }
   ],
   "source": [
    "#随机数\n",
    "f = np.random.random((2,4))\n",
    "print(f)\n",
    "print(np.sum(f))\n",
    "print(sum(f))\n",
    "print(np.min(f))\n",
    "print(\"=\"*10)\n",
    "print(np.sum(f, axis=0))\n",
    "print(np.min(f, axis=1))\n",
    "print(np.max(f, axis=0))"
   ]
  },
  {
   "cell_type": "code",
   "execution_count": 8,
   "metadata": {},
   "outputs": [
    {
     "name": "stdout",
     "output_type": "stream",
     "text": [
      "[[14 13 12 11]\n",
      " [10  9  8  7]\n",
      " [ 6  5  4  3]]\n",
      "sort: [[11 12 13 14]\n",
      " [ 7  8  9 10]\n",
      " [ 3  4  5  6]]\n"
     ]
    }
   ],
   "source": [
    "c = np.arange(14, 2, -1).reshape((3, 4))\n",
    "print(c)\n",
    "print(\"sort:\", np.sort(c))\n",
    "print(c.T)\n",
    "print(\"clip:\",np.clip(c, 5, 9))"
   ]
  },
  {
   "cell_type": "code",
   "execution_count": null,
   "metadata": {},
   "outputs": [],
   "source": [
    "a = np.arange(2, 14).reshape((3, 4))"
   ]
  },
  {
   "cell_type": "code",
   "execution_count": null,
   "metadata": {},
   "outputs": [],
   "source": []
  },
  {
   "cell_type": "code",
   "execution_count": null,
   "metadata": {},
   "outputs": [],
   "source": []
  }
 ],
 "metadata": {
  "kernelspec": {
   "display_name": "Python 3",
   "language": "python",
   "name": "python3"
  },
  "language_info": {
   "codemirror_mode": {
    "name": "ipython",
    "version": 3
   },
   "file_extension": ".py",
   "mimetype": "text/x-python",
   "name": "python",
   "nbconvert_exporter": "python",
   "pygments_lexer": "ipython3",
   "version": "3.7.0"
  }
 },
 "nbformat": 4,
 "nbformat_minor": 2
}
