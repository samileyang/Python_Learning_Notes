{
 "cells": [
  {
   "cell_type": "code",
   "execution_count": 3,
   "metadata": {},
   "outputs": [
    {
     "data": {
      "text/plain": [
       "[1, 1, 2, 3, 4, 4, 5, 6, 7, 8]"
      ]
     },
     "execution_count": 3,
     "metadata": {},
     "output_type": "execute_result"
    }
   ],
   "source": [
    "def insert_sort(arr):\n",
    "    n = len(arr)\n",
    "    for i in range(1,n):\n",
    "        temp = arr[i]\n",
    "        j = i\n",
    "        while j > 0:\n",
    "            if arr[j] < arr[j-1]:\n",
    "                arr[j] = arr[j-1]\n",
    "            else:\n",
    "                break\n",
    "            j -= 1\n",
    "            arr[j] = temp\n",
    "    return arr\n",
    "\n",
    "unsort = [1,3,4,2,1,5,6,7,8,4]\n",
    "insert_sort(unsort)"
   ]
  },
  {
   "cell_type": "code",
   "execution_count": null,
   "metadata": {},
   "outputs": [],
   "source": []
  }
 ],
 "metadata": {
  "kernelspec": {
   "display_name": "Python 3",
   "language": "python",
   "name": "python3"
  },
  "language_info": {
   "codemirror_mode": {
    "name": "ipython",
    "version": 3
   },
   "file_extension": ".py",
   "mimetype": "text/x-python",
   "name": "python",
   "nbconvert_exporter": "python",
   "pygments_lexer": "ipython3",
   "version": "3.7.0"
  }
 },
 "nbformat": 4,
 "nbformat_minor": 2
}
