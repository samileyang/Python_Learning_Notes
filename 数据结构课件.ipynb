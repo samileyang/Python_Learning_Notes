{
 "cells": [
  {
   "cell_type": "code",
   "execution_count": 1,
   "metadata": {},
   "outputs": [
    {
     "name": "stdout",
     "output_type": "stream",
     "text": [
      "a,b,c:0,500,500\n",
      "a,b,c:200,375,425\n",
      "a,b,c:375,200,425\n",
      "a,b,c:500,0,500\n",
      "times:138\n"
     ]
    }
   ],
   "source": [
    "# 如果 a+b+c = 1000,且a^2+b^2=c^2,求a,b,c（a,b,c为自然数）\n",
    "import time\n",
    "start_time = time.time()\n",
    "for a in range(0,1001):\n",
    "    for b in range(0,1001):\n",
    "        for c in range(0,1001):\n",
    "            if a+b+c == 1000 and a**2+b**2 == c**2:\n",
    "                print(\"a,b,c:%d,%d,%d\"%(a,b,c))\n",
    "end_time = time.time()\n",
    "print(\"times:%d\"%(end_time-start_time))"
   ]
  },
  {
   "cell_type": "code",
   "execution_count": 2,
   "metadata": {},
   "outputs": [
    {
     "name": "stdout",
     "output_type": "stream",
     "text": [
      "a,b,c:0,500,500\n",
      "a,b,c:200,375,425\n",
      "a,b,c:375,200,425\n",
      "a,b,c:500,0,500\n",
      "times:1\n"
     ]
    }
   ],
   "source": [
    "# 如果 a+b+c = 1000,且a^2+b^2=c^2,求a,b,c（a,b,c为自然数）\n",
    "import time\n",
    "start_time = time.time()\n",
    "for a in range(0,1001):\n",
    "    for b in range(0,1001):\n",
    "        c = 1000 - a - b\n",
    "        if a**2+b**2 == c**2:\n",
    "            print(\"a,b,c:%d,%d,%d\"%(a,b,c))\n",
    "end_time = time.time()\n",
    "print(\"times:%d\"%(end_time-start_time))"
   ]
  },
  {
   "cell_type": "markdown",
   "metadata": {},
   "source": [
    "|运算|量级|  \n",
    "|-----|-----|  \n",
    "|12 | O(1)| \n",
    "|2n+3| O(n)|  \n",
    "|3n^2+2n+1|O(n^2)|  \n",
    "|5log2(n)|O(logn)|  \n",
    "|2n+log2(n)|O(nlogn)|  \n",
    "|2^n|O(2^n)|  "
   ]
  },
  {
   "cell_type": "code",
   "execution_count": 4,
   "metadata": {},
   "outputs": [
    {
     "name": "stdout",
     "output_type": "stream",
     "text": [
      "append: 0.6937156039999763\n",
      "+=: 0.7196671550000246\n",
      "for: 0.29094233000000713\n",
      "range: 0.1395076499999277\n",
      "extend: 0.8851929159999372\n"
     ]
    }
   ],
   "source": [
    "from timeit import Timer\n",
    "\n",
    "def t1():\n",
    "    li = []\n",
    "    for i in range(10000):\n",
    "        li.append(i)\n",
    "\n",
    "def t2():\n",
    "    li = []\n",
    "    for i in range(10000):\n",
    "        li += [i]\n",
    "\n",
    "def t3():\n",
    "    li = [i for i in range(10000)]\n",
    "\n",
    "def t4():\n",
    "    li = list(range(10000))\n",
    "    \n",
    "def t5():\n",
    "    li = []\n",
    "    for i in range(10000):\n",
    "        li.extend([i])\n",
    "    \n",
    "timer1 = Timer(\"t1()\",\"from __main__ import t1\")\n",
    "print(\"append:\",timer1.timeit(1000))\n",
    "\n",
    "timer2 = Timer(\"t2()\",\"from __main__ import t2\")\n",
    "print(\"+=:\",timer2.timeit(1000))\n",
    "\n",
    "timer3 = Timer(\"t3()\",\"from __main__ import t3\")\n",
    "print(\"for:\",timer3.timeit(1000))\n",
    "\n",
    "timer4 = Timer(\"t4()\",\"from __main__ import t4\")\n",
    "print(\"range:\",timer4.timeit(1000))\n",
    "\n",
    "timer5 = Timer(\"t5()\",\"from __main__ import t5\")\n",
    "print(\"extend:\",timer5.timeit(1000))\n"
   ]
  },
  {
   "cell_type": "code",
   "execution_count": 6,
   "metadata": {},
   "outputs": [
    {
     "name": "stdout",
     "output_type": "stream",
     "text": [
      "extend: 0.6407085740002003\n",
      "insert: 37.97691280200024\n"
     ]
    }
   ],
   "source": [
    "def t6():\n",
    "    li = []\n",
    "    for i in range(10000):\n",
    "        li.append(i)\n",
    "        \n",
    "def t7():\n",
    "    li = []\n",
    "    for i in range(10000):\n",
    "        li.insert(0,i)\n",
    "        \n",
    "timer6 = Timer(\"t6()\",\"from __main__ import t6\")\n",
    "print(\"extend:\",timer6.timeit(1000))\n",
    "\n",
    "timer7 = Timer(\"t7()\",\"from __main__ import t7\")\n",
    "print(\"insert:\",timer7.timeit(1000))"
   ]
  },
  {
   "cell_type": "markdown",
   "metadata": {},
   "source": [
    "表元素域elem用来保存具体数据  \n",
    "链接域next用来存放下一个节点的位置  \n",
    "变量p指向链表头结点的位置，从p出发能找到表中的任意节点  "
   ]
  },
  {
   "cell_type": "markdown",
   "metadata": {},
   "source": []
  },
  {
   "cell_type": "code",
   "execution_count": null,
   "metadata": {},
   "outputs": [],
   "source": [
    "class Node(object):\n",
    "    def __init__(self,elem):\n",
    "        self.elem = elem\n",
    "        self.next = None\n",
    "\n",
    "class SingleLinkList(object):\n",
    "    def is_empty(self):\n",
    "        pass\n",
    "    def length(self):\n",
    "        pass\n",
    "    def travel(self):\n",
    "        pass\n",
    "    def add(self,item):\n",
    "        pass\n",
    "    def append(self,item):\n",
    "        pass\n",
    "    def insert(self,position,item):\n",
    "        pass\n",
    "    def remove(self,item):\n",
    "        pass\n",
    "    def search(self,item):\n",
    "        pass\n"
   ]
  }
 ],
 "metadata": {
  "kernelspec": {
   "display_name": "Python 3",
   "language": "python",
   "name": "python3"
  },
  "language_info": {
   "codemirror_mode": {
    "name": "ipython",
    "version": 3
   },
   "file_extension": ".py",
   "mimetype": "text/x-python",
   "name": "python",
   "nbconvert_exporter": "python",
   "pygments_lexer": "ipython3",
   "version": "3.7.0"
  }
 },
 "nbformat": 4,
 "nbformat_minor": 2
}
