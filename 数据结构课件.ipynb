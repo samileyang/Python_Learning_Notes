{
 "cells": [
  {
   "cell_type": "code",
   "execution_count": 1,
   "metadata": {},
   "outputs": [
    {
     "name": "stdout",
     "output_type": "stream",
     "text": [
      "a,b,c:0,500,500\n",
      "a,b,c:200,375,425\n",
      "a,b,c:375,200,425\n",
      "a,b,c:500,0,500\n",
      "times:138\n"
     ]
    }
   ],
   "source": [
    "# 如果 a+b+c = 1000,且a^2+b^2=c^2,求a,b,c（a,b,c为自然数）\n",
    "import time\n",
    "start_time = time.time()\n",
    "for a in range(0,1001):\n",
    "    for b in range(0,1001):\n",
    "        for c in range(0,1001):\n",
    "            if a+b+c == 1000 and a**2+b**2 == c**2:\n",
    "                print(\"a,b,c:%d,%d,%d\"%(a,b,c))\n",
    "end_time = time.time()\n",
    "print(\"times:%d\"%(end_time-start_time))"
   ]
  },
  {
   "cell_type": "code",
   "execution_count": 2,
   "metadata": {},
   "outputs": [
    {
     "name": "stdout",
     "output_type": "stream",
     "text": [
      "a,b,c:0,500,500\n",
      "a,b,c:200,375,425\n",
      "a,b,c:375,200,425\n",
      "a,b,c:500,0,500\n",
      "times:1\n"
     ]
    }
   ],
   "source": [
    "# 如果 a+b+c = 1000,且a^2+b^2=c^2,求a,b,c（a,b,c为自然数）\n",
    "import time\n",
    "start_time = time.time()\n",
    "for a in range(0,1001):\n",
    "    for b in range(0,1001):\n",
    "        c = 1000 - a - b\n",
    "        if a**2+b**2 == c**2:\n",
    "            print(\"a,b,c:%d,%d,%d\"%(a,b,c))\n",
    "end_time = time.time()\n",
    "print(\"times:%d\"%(end_time-start_time))"
   ]
  },
  {
   "cell_type": "markdown",
   "metadata": {},
   "source": [
    "|运算|量级|  \n",
    "|-----|-----|  \n",
    "|12 | O(1)| \n",
    "|2n+3| O(n)|  \n",
    "|3n^2+2n+1|O(n^2)|  \n",
    "|5log2(n)|O(logn)|  \n",
    "|2n+log2(n)|O(nlogn)|  \n",
    "|2^n|O(2^n)|  "
   ]
  },
  {
   "cell_type": "code",
   "execution_count": 4,
   "metadata": {},
   "outputs": [
    {
     "name": "stdout",
     "output_type": "stream",
     "text": [
      "append: 0.6937156039999763\n",
      "+=: 0.7196671550000246\n",
      "for: 0.29094233000000713\n",
      "range: 0.1395076499999277\n",
      "extend: 0.8851929159999372\n"
     ]
    }
   ],
   "source": [
    "from timeit import Timer\n",
    "\n",
    "def t1():\n",
    "    li = []\n",
    "    for i in range(10000):\n",
    "        li.append(i)\n",
    "\n",
    "def t2():\n",
    "    li = []\n",
    "    for i in range(10000):\n",
    "        li += [i]\n",
    "\n",
    "def t3():\n",
    "    li = [i for i in range(10000)]\n",
    "\n",
    "def t4():\n",
    "    li = list(range(10000))\n",
    "    \n",
    "def t5():\n",
    "    li = []\n",
    "    for i in range(10000):\n",
    "        li.extend([i])\n",
    "    \n",
    "timer1 = Timer(\"t1()\",\"from __main__ import t1\")\n",
    "print(\"append:\",timer1.timeit(1000))\n",
    "\n",
    "timer2 = Timer(\"t2()\",\"from __main__ import t2\")\n",
    "print(\"+=:\",timer2.timeit(1000))\n",
    "\n",
    "timer3 = Timer(\"t3()\",\"from __main__ import t3\")\n",
    "print(\"for:\",timer3.timeit(1000))\n",
    "\n",
    "timer4 = Timer(\"t4()\",\"from __main__ import t4\")\n",
    "print(\"range:\",timer4.timeit(1000))\n",
    "\n",
    "timer5 = Timer(\"t5()\",\"from __main__ import t5\")\n",
    "print(\"extend:\",timer5.timeit(1000))\n"
   ]
  },
  {
   "cell_type": "code",
   "execution_count": 6,
   "metadata": {},
   "outputs": [
    {
     "name": "stdout",
     "output_type": "stream",
     "text": [
      "extend: 0.6407085740002003\n",
      "insert: 37.97691280200024\n"
     ]
    }
   ],
   "source": [
    "def t6():\n",
    "    li = []\n",
    "    for i in range(10000):\n",
    "        li.append(i)\n",
    "        \n",
    "def t7():\n",
    "    li = []\n",
    "    for i in range(10000):\n",
    "        li.insert(0,i)\n",
    "        \n",
    "timer6 = Timer(\"t6()\",\"from __main__ import t6\")\n",
    "print(\"extend:\",timer6.timeit(1000))\n",
    "\n",
    "timer7 = Timer(\"t7()\",\"from __main__ import t7\")\n",
    "print(\"insert:\",timer7.timeit(1000))"
   ]
  },
  {
   "cell_type": "markdown",
   "metadata": {},
   "source": [
    "表元素域elem用来保存具体数据  \n",
    "链接域next用来存放下一个节点的位置  \n",
    "变量p指向链表头结点的位置，从p出发能找到表中的任意节点  "
   ]
  },
  {
   "cell_type": "markdown",
   "metadata": {},
   "source": []
  },
  {
   "cell_type": "code",
   "execution_count": 1,
   "metadata": {},
   "outputs": [
    {
     "name": "stdout",
     "output_type": "stream",
     "text": [
      "True\n",
      "0\n",
      "False\n",
      "1\n",
      "9 8 1 2 3 4 5 6 \n",
      "9 8 1 100 2 3 4 5 6 \n",
      "9 8 1 100 2 3 4 5 6 200 \n",
      "9 8 1 2 3 4 5 6 200 \n",
      "8 1 2 3 4 5 6 200 \n",
      "8 1 2 3 4 5 6 \n"
     ]
    }
   ],
   "source": [
    "class Node(object):\n",
    "    def __init__(self,elem):\n",
    "        self.elem = elem\n",
    "        self.next = None\n",
    "\n",
    "class SingleLinkList(object):\n",
    "    \"\"\"单链表\"\"\"\n",
    "    def __init__(self, node=None):\n",
    "        self.__head = node\n",
    "\n",
    "    def is_empty(self):\n",
    "        \"\"\"链表是否为空\"\"\"\n",
    "        return self.__head == None\n",
    "\n",
    "    def length(self):\n",
    "        \"\"\"链表长度\"\"\"\n",
    "        # cur游标，用来移动遍历节点\n",
    "        cur = self.__head\n",
    "        # count记录数量\n",
    "        count = 0\n",
    "        while cur != None:\n",
    "            count += 1\n",
    "            cur = cur.next\n",
    "        return count\n",
    "\n",
    "    def travel(self):\n",
    "        \"\"\"遍历整个链表\"\"\"\n",
    "        cur = self.__head\n",
    "        while cur != None:\n",
    "            print(cur.elem, end=\" \")\n",
    "            cur = cur.next\n",
    "        print(\"\")\n",
    "\n",
    "    def add(self, item):\n",
    "        \"\"\"链表头部添加元素，头插法\"\"\"\n",
    "        node = Node(item)\n",
    "        node.next = self.__head\n",
    "        self.__head = node\n",
    "\n",
    "    def append(self, item):\n",
    "        \"\"\"链表尾部添加元素, 尾插法\"\"\"\n",
    "        node = Node(item)\n",
    "        if self.is_empty():\n",
    "            self.__head = node\n",
    "        else:\n",
    "            cur = self.__head\n",
    "            while cur.next != None:\n",
    "                cur = cur.next\n",
    "            cur.next = node\n",
    "\n",
    "    def insert(self, pos, item):\n",
    "        \"\"\"指定位置添加元素\n",
    "        :param  pos 从0开始\n",
    "        \"\"\"\n",
    "        if pos <= 0:\n",
    "            self.add(item)\n",
    "        elif pos > (self.length()-1):\n",
    "            self.append(item)\n",
    "        else:\n",
    "            pre = self.__head\n",
    "            count = 0\n",
    "            while count < (pos-1):\n",
    "                count += 1\n",
    "                pre = pre.next\n",
    "            # 当循环退出后，pre指向pos-1位置\n",
    "            node = Node(item)\n",
    "            node.next = pre.next\n",
    "            pre.next = node\n",
    "\n",
    "    def remove(self, item):\n",
    "        \"\"\"删除节点\"\"\"\n",
    "        cur = self.__head\n",
    "        pre = None\n",
    "        while cur != None:\n",
    "            if cur.elem == item:\n",
    "                # 先判断此结点是否是头节点\n",
    "                # 头节点\n",
    "                if cur == self.__head:\n",
    "                    self.__head = cur.next\n",
    "                else:\n",
    "                    pre.next = cur.next\n",
    "                break\n",
    "            else:\n",
    "                pre = cur\n",
    "                cur = cur.next\n",
    "\n",
    "    def search(self, item):\n",
    "        \"\"\"查找节点是否存在\"\"\"\n",
    "        cur = self.__head\n",
    "        while cur != None:\n",
    "            if cur.elem == item:\n",
    "                return True\n",
    "            else:\n",
    "                cur = cur.next\n",
    "        return False\n",
    "\n",
    "\n",
    "\n",
    "if __name__ == \"__main__\":\n",
    "    ll = SingleLinkList()\n",
    "    print(ll.is_empty())\n",
    "    print(ll.length())\n",
    "\n",
    "    ll.append(1)\n",
    "    print(ll.is_empty())\n",
    "    print(ll.length())\n",
    "\n",
    "\n",
    "    ll.append(2)\n",
    "    ll.add(8)\n",
    "    ll.append(3)\n",
    "    ll.append(4)\n",
    "    ll.append(5)\n",
    "    ll.append(6)\n",
    "    # 8 1 2 3 4 5 6\n",
    "    ll.insert(-1, 9) # 9 8 1 23456\n",
    "    ll.travel()\n",
    "    ll.insert(3, 100) # 9 8 1 100 2 3456\n",
    "    ll.travel()\n",
    "    ll.insert(10, 200) # 9 8 1 100 23456 200\n",
    "    ll.travel()\n",
    "    ll.remove(100)\n",
    "    ll.travel()\n",
    "    ll.remove(9)\n",
    "    ll.travel()\n",
    "    ll.remove(200)\n",
    "    ll.travel()\n",
    "\n"
   ]
  },
  {
   "cell_type": "code",
   "execution_count": null,
   "metadata": {},
   "outputs": [],
   "source": []
  }
 ],
 "metadata": {
  "kernelspec": {
   "display_name": "Python 3",
   "language": "python",
   "name": "python3"
  },
  "language_info": {
   "codemirror_mode": {
    "name": "ipython",
    "version": 3
   },
   "file_extension": ".py",
   "mimetype": "text/x-python",
   "name": "python",
   "nbconvert_exporter": "python",
   "pygments_lexer": "ipython3",
   "version": "3.7.0"
  }
 },
 "nbformat": 4,
 "nbformat_minor": 2
}
