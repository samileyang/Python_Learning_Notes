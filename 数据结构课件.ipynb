{
 "cells": [
  {
   "cell_type": "code",
   "execution_count": 1,
   "metadata": {},
   "outputs": [
    {
     "name": "stdout",
     "output_type": "stream",
     "text": [
      "a,b,c:0,500,500\n",
      "a,b,c:200,375,425\n",
      "a,b,c:375,200,425\n",
      "a,b,c:500,0,500\n",
      "times:138\n"
     ]
    }
   ],
   "source": [
    "# 如果 a+b+c = 1000,且a^2+b^2=c^2,求a,b,c（a,b,c为自然数）\n",
    "import time\n",
    "start_time = time.time()\n",
    "for a in range(0,1001):\n",
    "    for b in range(0,1001):\n",
    "        for c in range(0,1001):\n",
    "            if a+b+c == 1000 and a**2+b**2 == c**2:\n",
    "                print(\"a,b,c:%d,%d,%d\"%(a,b,c))\n",
    "end_time = time.time()\n",
    "print(\"times:%d\"%(end_time-start_time))"
   ]
  },
  {
   "cell_type": "code",
   "execution_count": 2,
   "metadata": {},
   "outputs": [
    {
     "name": "stdout",
     "output_type": "stream",
     "text": [
      "a,b,c:0,500,500\n",
      "a,b,c:200,375,425\n",
      "a,b,c:375,200,425\n",
      "a,b,c:500,0,500\n",
      "times:1\n"
     ]
    }
   ],
   "source": [
    "# 如果 a+b+c = 1000,且a^2+b^2=c^2,求a,b,c（a,b,c为自然数）\n",
    "import time\n",
    "start_time = time.time()\n",
    "for a in range(0,1001):\n",
    "    for b in range(0,1001):\n",
    "        c = 1000 - a - b\n",
    "        if a**2+b**2 == c**2:\n",
    "            print(\"a,b,c:%d,%d,%d\"%(a,b,c))\n",
    "end_time = time.time()\n",
    "print(\"times:%d\"%(end_time-start_time))"
   ]
  },
  {
   "cell_type": "code",
   "execution_count": null,
   "metadata": {},
   "outputs": [],
   "source": []
  }
 ],
 "metadata": {
  "kernelspec": {
   "display_name": "Python 3",
   "language": "python",
   "name": "python3"
  },
  "language_info": {
   "codemirror_mode": {
    "name": "ipython",
    "version": 3
   },
   "file_extension": ".py",
   "mimetype": "text/x-python",
   "name": "python",
   "nbconvert_exporter": "python",
   "pygments_lexer": "ipython3",
   "version": "3.7.0"
  }
 },
 "nbformat": 4,
 "nbformat_minor": 2
}
