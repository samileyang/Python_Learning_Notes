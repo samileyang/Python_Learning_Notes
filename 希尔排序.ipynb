{
 "cells": [
  {
   "cell_type": "code",
   "execution_count": 2,
   "metadata": {},
   "outputs": [
    {
     "name": "stdout",
     "output_type": "stream",
     "text": [
      "[12, 34, 54, 2, 3]\n",
      "[12, 2, 54, 34, 3]\n",
      "[3, 2, 12, 34, 54]\n",
      "[2, 3, 12, 34, 54]\n",
      "[2, 3, 12, 34, 54]\n",
      "[2, 3, 12, 34, 54]\n",
      "[2, 3, 12, 34, 54]\n"
     ]
    },
    {
     "data": {
      "text/plain": [
       "[2, 3, 12, 34, 54]"
      ]
     },
     "execution_count": 2,
     "metadata": {},
     "output_type": "execute_result"
    }
   ],
   "source": [
    "def shellsort(arr):\n",
    "    n = len(arr)\n",
    "    gap = n // 2\n",
    "    while gap>0:\n",
    "        for i in range(gap,n):\n",
    "            temp = arr[i]\n",
    "            j = i\n",
    "            while  j >= gap and arr[j-gap] >temp: \n",
    "                arr[j] = arr[j-gap] \n",
    "                j -= gap \n",
    "            arr[j] = temp\n",
    "            print(arr)\n",
    "        gap = gap//2\n",
    "    return arr\n",
    "\n",
    "arr = [ 12, 34, 54, 2, 3]\n",
    "shellsort(arr)"
   ]
  },
  {
   "cell_type": "code",
   "execution_count": null,
   "metadata": {},
   "outputs": [],
   "source": []
  }
 ],
 "metadata": {
  "kernelspec": {
   "display_name": "Python 3",
   "language": "python",
   "name": "python3"
  },
  "language_info": {
   "codemirror_mode": {
    "name": "ipython",
    "version": 3
   },
   "file_extension": ".py",
   "mimetype": "text/x-python",
   "name": "python",
   "nbconvert_exporter": "python",
   "pygments_lexer": "ipython3",
   "version": "3.7.0"
  }
 },
 "nbformat": 4,
 "nbformat_minor": 2
}
