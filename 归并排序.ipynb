{
 "cells": [
  {
   "cell_type": "code",
   "execution_count": 1,
   "metadata": {},
   "outputs": [
    {
     "name": "stdout",
     "output_type": "stream",
     "text": [
      "[1, 2, 3, 4, 5]\n"
     ]
    }
   ],
   "source": [
    "def merge_sort( li ):\n",
    "    #不断递归调用自己一直到拆分成成单个元素的时候就返回这个元素，不再拆分了\n",
    "    if len(li) == 1:\n",
    "        return li\n",
    "\n",
    "    #取拆分的中间位置\n",
    "    mid = len(li) // 2\n",
    "    #拆分过后左右两侧子串\n",
    "    left = li[:mid]\n",
    "    right = li[mid:]\n",
    "\n",
    "    #对拆分过后的左右再拆分 一直到只有一个元素为止\n",
    "    #最后一次递归时候ll和lr都会接到一个元素的列表\n",
    "    # 最后一次递归之前的ll和rl会接收到排好序的子序列\n",
    "    ll = merge_sort( left )\n",
    "    rl =merge_sort( right )\n",
    "\n",
    "    # 我们对返回的两个拆分结果进行排序后合并再返回正确顺序的子列表\n",
    "    # 这里我们调用拎一个函数帮助我们按顺序合并ll和lr\n",
    "    return merge(ll , rl)\n",
    "\n",
    "#这里接收两个列表\n",
    "def merge( left , right ):\n",
    "    # 从两个有顺序的列表里边依次取数据比较后放入result\n",
    "    # 每次我们分别拿出两个列表中最小的数比较，把较小的放入result\n",
    "    result = []\n",
    "    while len(left)>0 and len(right)>0 :\n",
    "        #为了保持稳定性，当遇到相等的时候优先把左侧的数放进结果列表，因为left本来也是大数列中比较靠左的\n",
    "        if left[0] <= right[0]:\n",
    "            result.append( left.pop(0) )\n",
    "        else:\n",
    "            result.append( right.pop(0) )\n",
    "    #while循环出来之后 说明其中一个数组没有数据了，我们把另一个数组添加到结果数组后面\n",
    "    result += left\n",
    "    result += right\n",
    "    return result\n",
    "\n",
    "if __name__ == '__main__':\n",
    "    li = [5,4 ,3 ,2 ,1]\n",
    "    li2 = merge_sort(li)\n",
    "    print(li2)"
   ]
  },
  {
   "cell_type": "code",
   "execution_count": null,
   "metadata": {},
   "outputs": [],
   "source": []
  }
 ],
 "metadata": {
  "kernelspec": {
   "display_name": "Python 3",
   "language": "python",
   "name": "python3"
  },
  "language_info": {
   "codemirror_mode": {
    "name": "ipython",
    "version": 3
   },
   "file_extension": ".py",
   "mimetype": "text/x-python",
   "name": "python",
   "nbconvert_exporter": "python",
   "pygments_lexer": "ipython3",
   "version": "3.7.0"
  }
 },
 "nbformat": 4,
 "nbformat_minor": 2
}
