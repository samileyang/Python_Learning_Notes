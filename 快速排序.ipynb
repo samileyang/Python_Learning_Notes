{
 "cells": [
  {
   "cell_type": "code",
   "execution_count": 6,
   "metadata": {},
   "outputs": [
    {
     "data": {
      "text/plain": [
       "[11, 11, 22, 33, 33, 36, 39, 44, 55, 66, 69, 77, 88, 99]"
      ]
     },
     "execution_count": 6,
     "metadata": {},
     "output_type": "execute_result"
    }
   ],
   "source": [
    "b = [11, 99, 33, 69, 77, 88, 55, 11, 33, 36, 39, 66, 44, 22]\n",
    "quick_sort(b)"
   ]
  },
  {
   "cell_type": "code",
   "execution_count": 5,
   "metadata": {},
   "outputs": [],
   "source": [
    "def quick_sort(b):\n",
    "    \"\"\"快速排序\"\"\"\n",
    "    if len(b) < 2:\n",
    "        return b\n",
    "    # 选取基准，随便选哪个都可以，选中间的便于理解\n",
    "    mid = b[len(b) // 2]\n",
    "    # 定义基准值左右两个数列\n",
    "    left, right = [], []\n",
    "    # 从原始数组中移除基准值\n",
    "    b.remove(mid)\n",
    "    for item in b:\n",
    "        # 大于基准值放右边\n",
    "        if item >= mid:\n",
    "            right.append(item)\n",
    "        else:\n",
    "            # 小于基准值放左边\n",
    "            left.append(item)\n",
    "    # 使用迭代进行比较\n",
    "    return quick_sort(left) + [mid] + quick_sort(right)"
   ]
  },
  {
   "cell_type": "code",
   "execution_count": null,
   "metadata": {},
   "outputs": [],
   "source": []
  }
 ],
 "metadata": {
  "kernelspec": {
   "display_name": "Python 3",
   "language": "python",
   "name": "python3"
  },
  "language_info": {
   "codemirror_mode": {
    "name": "ipython",
    "version": 3
   },
   "file_extension": ".py",
   "mimetype": "text/x-python",
   "name": "python",
   "nbconvert_exporter": "python",
   "pygments_lexer": "ipython3",
   "version": "3.7.0"
  }
 },
 "nbformat": 4,
 "nbformat_minor": 2
}
