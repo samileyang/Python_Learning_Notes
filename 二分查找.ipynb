{
 "cells": [
  {
   "cell_type": "code",
   "execution_count": 1,
   "metadata": {},
   "outputs": [
    {
     "name": "stdout",
     "output_type": "stream",
     "text": [
      "times: 3\n",
      "6\n"
     ]
    }
   ],
   "source": [
    "def binary_search(lis, key):\n",
    "    low = 0\n",
    "    high = len(lis) - 1\n",
    "    time = 0\n",
    "    while low < high:\n",
    "        time += 1\n",
    "        mid = int((low + high) / 2)\n",
    "        if key < lis[mid]:\n",
    "            high = mid - 1\n",
    "        elif key > lis[mid]:\n",
    "            low = mid + 1\n",
    "        else:\n",
    "        # 打印折半的次数\n",
    "            print(\"times: %s\" % time)\n",
    "            return mid\n",
    "            print(\"times: %s\" % time)\n",
    "    return False\n",
    "\n",
    "if __name__ == '__main__':\n",
    "    LIST = [1, 5, 7, 8, 22, 54, 99, 123, 200, 222, 444]\n",
    "    result = binary_search(LIST, 99)\n",
    "    print(result)"
   ]
  },
  {
   "cell_type": "code",
   "execution_count": null,
   "metadata": {},
   "outputs": [],
   "source": []
  }
 ],
 "metadata": {
  "kernelspec": {
   "display_name": "Python 3",
   "language": "python",
   "name": "python3"
  },
  "language_info": {
   "codemirror_mode": {
    "name": "ipython",
    "version": 3
   },
   "file_extension": ".py",
   "mimetype": "text/x-python",
   "name": "python",
   "nbconvert_exporter": "python",
   "pygments_lexer": "ipython3",
   "version": "3.7.0"
  }
 },
 "nbformat": 4,
 "nbformat_minor": 2
}
