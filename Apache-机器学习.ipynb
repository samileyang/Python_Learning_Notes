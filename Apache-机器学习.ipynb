{
 "cells": [
  {
   "cell_type": "markdown",
   "metadata": {},
   "source": [
    "# 监督学习\n",
    "1. k-临近算法\n",
    "2. 线性回归\n",
    "3. 朴素贝叶斯\n",
    "4. 支持向量机\n",
    "5. 决策树\n",
    "\n",
    "# 无监督学习\n",
    "1. K-均值"
   ]
  },
  {
   "cell_type": "code",
   "execution_count": 6,
   "metadata": {},
   "outputs": [
    {
     "name": "stdout",
     "output_type": "stream",
     "text": [
      "<_io.TextIOWrapper name='datingTestSet2.txt' mode='r' encoding='cp1252'>\n"
     ]
    },
    {
     "data": {
      "text/plain": [
       "1000"
      ]
     },
     "execution_count": 6,
     "metadata": {},
     "output_type": "execute_result"
    }
   ],
   "source": [
    "fr = open(\"datingTestSet2.txt\")\n",
    "numofLines = len(fr.readlines())\n",
    "for line in fr.readlines():\n",
    "    line = line,strip()\n",
    "    listFromLine = line.split(\"\\t\")"
   ]
  },
  {
   "cell_type": "code",
   "execution_count": 6,
   "metadata": {},
   "outputs": [],
   "source": [
    "from sklearn import metrics\n",
    "from sklearn.metrics import confusion_matrix"
   ]
  },
  {
   "cell_type": "code",
   "execution_count": 7,
   "metadata": {},
   "outputs": [
    {
     "name": "stdout",
     "output_type": "stream",
     "text": [
      "the accuracy of uniform is 0.8533333333333334\n",
      "the accuracy of distance is 0.9266666666666666\n"
     ]
    }
   ],
   "source": [
    "#KNN\n",
    "\n",
    "import numpy as np\n",
    "import matplotlib.pyplot as plt\n",
    "from numpy import *\n",
    "from matplotlib.colors import ListedColormap\n",
    "from sklearn import datasets,neighbors\n",
    "\n",
    "n_neighbors = 3\n",
    "iris = datasets.load_iris()\n",
    "X = iris.data[:,:2]\n",
    "y = iris.target\n",
    "\n",
    "for weights in ['uniform','distance']:\n",
    "    clf = neighbors.KNeighborsClassifier(n_neighbors,weights)\n",
    "    clf.fit(X, y)\n",
    "    result = clf.predict(X)\n",
    "    result_acc = metrics.accuracy_score(y,result)\n",
    "    print('the accuracy of {} is {}'.format(weights,result_acc))"
   ]
  }
 ],
 "metadata": {
  "kernelspec": {
   "display_name": "Python 3",
   "language": "python",
   "name": "python3"
  },
  "language_info": {
   "codemirror_mode": {
    "name": "ipython",
    "version": 3
   },
   "file_extension": ".py",
   "mimetype": "text/x-python",
   "name": "python",
   "nbconvert_exporter": "python",
   "pygments_lexer": "ipython3",
   "version": "3.7.3"
  }
 },
 "nbformat": 4,
 "nbformat_minor": 2
}
