{
 "cells": [
  {
   "cell_type": "code",
   "execution_count": 1,
   "metadata": {},
   "outputs": [
    {
     "data": {
      "text/plain": [
       "0    1.0\n",
       "1    3.0\n",
       "2    5.0\n",
       "3    NaN\n",
       "4    6.0\n",
       "5    8.0\n",
       "dtype: float64"
      ]
     },
     "execution_count": 1,
     "metadata": {},
     "output_type": "execute_result"
    }
   ],
   "source": [
    "import numpy as np\n",
    "import pandas as pd\n",
    "\n",
    "s = pd.Series([1, 3, 5, np.nan, 6, 8])\n",
    "s"
   ]
  },
  {
   "cell_type": "code",
   "execution_count": 4,
   "metadata": {},
   "outputs": [
    {
     "name": "stdout",
     "output_type": "stream",
     "text": [
      "0    0\n",
      "1    1\n",
      "2    2\n",
      "3    3\n",
      "4    4\n",
      "5    5\n",
      "dtype: int32\n",
      "0     1.0\n",
      "1     2.0\n",
      "2     3.0\n",
      "3    45.0\n",
      "dtype: float32\n"
     ]
    }
   ],
   "source": [
    "s_np1 = pd.Series(np.arange(6)) #利用numpy生成series的方法\n",
    "data_numpy = np.array([1, 2, 3, 45], dtype=np.float32)\n",
    "s_np2 = pd.Series(data_numpy)\n",
    "print(s_np1)\n",
    "print(s_np2)"
   ]
  },
  {
   "cell_type": "code",
   "execution_count": 5,
   "metadata": {},
   "outputs": [
    {
     "name": "stdout",
     "output_type": "stream",
     "text": [
      "   0  1  2  3\n",
      "0  4  0  5  2\n",
      "1  4  3  5  5\n",
      "2  2  1  0  5\n"
     ]
    }
   ],
   "source": [
    "# 通过numpy生成随机0-10的shape为(3, 4)的dataframe\n",
    "df_np = pd.DataFrame(np.random.randint(low=0, high=10, size=(3, 4)))\n",
    "print(df_np)"
   ]
  },
  {
   "cell_type": "code",
   "execution_count": 6,
   "metadata": {},
   "outputs": [
    {
     "name": "stdout",
     "output_type": "stream",
     "text": [
      "          0         1         2         3\n",
      "f -0.489979 -1.032338 -0.973505 -0.521069\n",
      "s -2.060882  0.206805  1.470601  0.942792\n",
      "t -0.358026 -0.766205 -0.780459 -1.393039\n"
     ]
    }
   ],
   "source": [
    "df_index = pd.DataFrame(np.random.randn(3, 4), index=['f', 's', 't'])\n",
    "print(df_index)"
   ]
  },
  {
   "cell_type": "code",
   "execution_count": 7,
   "metadata": {},
   "outputs": [
    {
     "name": "stdout",
     "output_type": "stream",
     "text": [
      "   che  hong  shu  24\n",
      "0    0     1    2   3\n",
      "1    4     5    6   7\n",
      "2    8     9   10  11\n"
     ]
    }
   ],
   "source": [
    "df_colums = pd.DataFrame(np.arange(12).reshape((3, 4)), columns=['che', 'hong', 'shu', '24'])\n",
    "print(df_colums)"
   ]
  },
  {
   "cell_type": "code",
   "execution_count": 8,
   "metadata": {},
   "outputs": [],
   "source": [
    "?np.random.randint()"
   ]
  },
  {
   "cell_type": "code",
   "execution_count": 9,
   "metadata": {},
   "outputs": [
    {
     "name": "stdout",
     "output_type": "stream",
     "text": [
      "     che  hong        shu\n",
      "0  22.22   1.0 2018-12-22\n",
      "1  22.22   2.0 2018-12-23\n",
      "2  22.22   3.0 2018-12-24\n"
     ]
    }
   ],
   "source": [
    "#use dict to create dataframe\n",
    "dates_value = pd.date_range('20181222', periods=3)\n",
    "#dict的key对应于df的colomn\n",
    "df_dict = pd.DataFrame({'che': 22.22,\n",
    "                        'hong': pd.Series(np.array([1, 2, 3], dtype=np.float32)),\n",
    "                        'shu': dates_value})\n",
    "print(df_dict)"
   ]
  },
  {
   "cell_type": "code",
   "execution_count": 10,
   "metadata": {},
   "outputs": [
    {
     "name": "stdout",
     "output_type": "stream",
     "text": [
      "     A          B    C   D      E    F\n",
      "0  1.0 2013-01-02  1.0   3   test  che\n",
      "1  1.0 2013-01-02  1.0   6  train  che\n",
      "2  1.0 2013-01-02  1.0   9   test  che\n",
      "3  1.0 2013-01-02  1.0  12  train  che\n",
      "A           float64\n",
      "B    datetime64[ns]\n",
      "C           float32\n",
      "D             int32\n",
      "E          category\n",
      "F            object\n",
      "dtype: object\n"
     ]
    }
   ],
   "source": [
    "df2 = pd.DataFrame({'A': 1.,\n",
    "                    'B': pd.Timestamp('20130102'),\n",
    "                    'C': pd.Series(1, index=list(range(4)), dtype='float32'),\n",
    "                    'D': np.array([3, 6, 9, 12], dtype=np.int32),\n",
    "                    'E': pd.Categorical([\"test\", \"train\", \"test\", \"train\"]),\n",
    "                    'F': 'che'})\n",
    "print(df2)\n",
    "print(df2.dtypes) #return the data type of each column."
   ]
  },
  {
   "cell_type": "code",
   "execution_count": 12,
   "metadata": {},
   "outputs": [
    {
     "name": "stdout",
     "output_type": "stream",
     "text": [
      "Int64Index([0, 1, 2, 3], dtype='int64')\n",
      "Index(['A', 'B', 'C', 'D', 'E', 'F'], dtype='object')\n",
      "[[1.0 Timestamp('2013-01-02 00:00:00') 1.0 3 'test' 'che']\n",
      " [1.0 Timestamp('2013-01-02 00:00:00') 1.0 6 'train' 'che']\n",
      " [1.0 Timestamp('2013-01-02 00:00:00') 1.0 9 'test' 'che']\n",
      " [1.0 Timestamp('2013-01-02 00:00:00') 1.0 12 'train' 'che']]\n",
      "<class 'numpy.ndarray'>\n",
      "[[1.0 Timestamp('2013-01-02 00:00:00') 1.0 3 'test' 'che']\n",
      " [1.0 Timestamp('2013-01-02 00:00:00') 1.0 6 'train' 'che']\n",
      " [1.0 Timestamp('2013-01-02 00:00:00') 1.0 9 'test' 'che']\n",
      " [1.0 Timestamp('2013-01-02 00:00:00') 1.0 12 'train' 'che']]\n"
     ]
    }
   ],
   "source": [
    "print(df2.index)\n",
    "print(df2.columns)\n",
    "print(df2.values)\n",
    "# 返回数据类型为numpy可知取出元素其中一个方法是变成list之后取出即可\n",
    "# 当然这个方法速度慢，有更好的内置取值的方法\n",
    "print(type(df2.values))\n",
    "print(df2.values)"
   ]
  },
  {
   "cell_type": "code",
   "execution_count": 13,
   "metadata": {},
   "outputs": [
    {
     "name": "stdout",
     "output_type": "stream",
     "text": [
      "                     0                    1                    2  \\\n",
      "A                    1                    1                    1   \n",
      "B  2013-01-02 00:00:00  2013-01-02 00:00:00  2013-01-02 00:00:00   \n",
      "C                    1                    1                    1   \n",
      "D                    3                    6                    9   \n",
      "E                 test                train                 test   \n",
      "F                  che                  che                  che   \n",
      "\n",
      "                     3  \n",
      "A                    1  \n",
      "B  2013-01-02 00:00:00  \n",
      "C                    1  \n",
      "D                   12  \n",
      "E                train  \n",
      "F                  che  \n",
      "     F      E   D    C          B    A\n",
      "0  che   test   3  1.0 2013-01-02  1.0\n",
      "1  che  train   6  1.0 2013-01-02  1.0\n",
      "2  che   test   9  1.0 2013-01-02  1.0\n",
      "3  che  train  12  1.0 2013-01-02  1.0\n",
      "     A          B    C   D      E    F\n",
      "3  1.0 2013-01-02  1.0  12  train  che\n",
      "2  1.0 2013-01-02  1.0   9   test  che\n",
      "1  1.0 2013-01-02  1.0   6  train  che\n",
      "0  1.0 2013-01-02  1.0   3   test  che\n"
     ]
    }
   ],
   "source": [
    "print(df2.T)  #转置\n",
    "print(df2.sort_index(axis=1, ascending=False))  # axis=1 相当于colomn元素排序\n",
    "print(df2.sort_index(axis=0, ascending=False))  # axis=0 相当于index排序"
   ]
  },
  {
   "cell_type": "code",
   "execution_count": 14,
   "metadata": {},
   "outputs": [
    {
     "name": "stdout",
     "output_type": "stream",
     "text": [
      "     A          B    C   D      E    F\n",
      "0  1.0 2013-01-02  1.0   3   test  che\n",
      "2  1.0 2013-01-02  1.0   9   test  che\n",
      "1  1.0 2013-01-02  1.0   6  train  che\n",
      "3  1.0 2013-01-02  1.0  12  train  che\n"
     ]
    }
   ],
   "source": [
    "print(df2.sort_values(by='E')) #通过colomn为E的单位的value来排序（如果是数字则按数字大小排列，字母按字母大小）"
   ]
  },
  {
   "cell_type": "code",
   "execution_count": 3,
   "metadata": {},
   "outputs": [
    {
     "name": "stdout",
     "output_type": "stream",
     "text": [
      "             A   B   C   D\n",
      "2012-12-22   0   1   2   3\n",
      "2012-12-23   4   5   6   7\n",
      "2012-12-24   8   9  10  11\n",
      "2012-12-25  12  13  14  15\n",
      "2012-12-26  16  17  18  19\n",
      "2012-12-27  20  21  22  23\n"
     ]
    }
   ],
   "source": [
    "dates = pd.date_range('20121222',periods = 6)\n",
    "df = pd.DataFrame(np.arange(24).reshape((6,4)),index=dates,columns=['A','B','C','D'])\n",
    "print(df)"
   ]
  },
  {
   "cell_type": "code",
   "execution_count": 4,
   "metadata": {},
   "outputs": [
    {
     "data": {
      "text/plain": [
       "2012-12-22     0\n",
       "2012-12-23     4\n",
       "2012-12-24     8\n",
       "2012-12-25    12\n",
       "2012-12-26    16\n",
       "2012-12-27    20\n",
       "Freq: D, Name: A, dtype: int32"
      ]
     },
     "execution_count": 4,
     "metadata": {},
     "output_type": "execute_result"
    }
   ],
   "source": [
    "df['A']\n",
    "#df.A"
   ]
  },
  {
   "cell_type": "code",
   "execution_count": 5,
   "metadata": {},
   "outputs": [
    {
     "data": {
      "text/html": [
       "<div>\n",
       "<style scoped>\n",
       "    .dataframe tbody tr th:only-of-type {\n",
       "        vertical-align: middle;\n",
       "    }\n",
       "\n",
       "    .dataframe tbody tr th {\n",
       "        vertical-align: top;\n",
       "    }\n",
       "\n",
       "    .dataframe thead th {\n",
       "        text-align: right;\n",
       "    }\n",
       "</style>\n",
       "<table border=\"1\" class=\"dataframe\">\n",
       "  <thead>\n",
       "    <tr style=\"text-align: right;\">\n",
       "      <th></th>\n",
       "      <th>A</th>\n",
       "      <th>B</th>\n",
       "      <th>C</th>\n",
       "      <th>D</th>\n",
       "    </tr>\n",
       "  </thead>\n",
       "  <tbody>\n",
       "    <tr>\n",
       "      <th>2012-12-22</th>\n",
       "      <td>0</td>\n",
       "      <td>1</td>\n",
       "      <td>2</td>\n",
       "      <td>3</td>\n",
       "    </tr>\n",
       "    <tr>\n",
       "      <th>2012-12-23</th>\n",
       "      <td>4</td>\n",
       "      <td>5</td>\n",
       "      <td>6</td>\n",
       "      <td>7</td>\n",
       "    </tr>\n",
       "    <tr>\n",
       "      <th>2012-12-24</th>\n",
       "      <td>8</td>\n",
       "      <td>9</td>\n",
       "      <td>10</td>\n",
       "      <td>11</td>\n",
       "    </tr>\n",
       "  </tbody>\n",
       "</table>\n",
       "</div>"
      ],
      "text/plain": [
       "            A  B   C   D\n",
       "2012-12-22  0  1   2   3\n",
       "2012-12-23  4  5   6   7\n",
       "2012-12-24  8  9  10  11"
      ]
     },
     "execution_count": 5,
     "metadata": {},
     "output_type": "execute_result"
    }
   ],
   "source": [
    "df[0:3]"
   ]
  },
  {
   "cell_type": "code",
   "execution_count": 7,
   "metadata": {},
   "outputs": [
    {
     "data": {
      "text/plain": [
       "A     8\n",
       "B     9\n",
       "C    10\n",
       "D    11\n",
       "Name: 2012-12-24 00:00:00, dtype: int32"
      ]
     },
     "execution_count": 7,
     "metadata": {},
     "output_type": "execute_result"
    }
   ],
   "source": [
    "df.loc['20121224']"
   ]
  },
  {
   "cell_type": "code",
   "execution_count": 8,
   "metadata": {},
   "outputs": [
    {
     "data": {
      "text/html": [
       "<div>\n",
       "<style scoped>\n",
       "    .dataframe tbody tr th:only-of-type {\n",
       "        vertical-align: middle;\n",
       "    }\n",
       "\n",
       "    .dataframe tbody tr th {\n",
       "        vertical-align: top;\n",
       "    }\n",
       "\n",
       "    .dataframe thead th {\n",
       "        text-align: right;\n",
       "    }\n",
       "</style>\n",
       "<table border=\"1\" class=\"dataframe\">\n",
       "  <thead>\n",
       "    <tr style=\"text-align: right;\">\n",
       "      <th></th>\n",
       "      <th>A</th>\n",
       "      <th>B</th>\n",
       "      <th>C</th>\n",
       "    </tr>\n",
       "  </thead>\n",
       "  <tbody>\n",
       "    <tr>\n",
       "      <th>2012-12-22</th>\n",
       "      <td>0</td>\n",
       "      <td>1</td>\n",
       "      <td>2</td>\n",
       "    </tr>\n",
       "    <tr>\n",
       "      <th>2012-12-23</th>\n",
       "      <td>4</td>\n",
       "      <td>5</td>\n",
       "      <td>6</td>\n",
       "    </tr>\n",
       "    <tr>\n",
       "      <th>2012-12-24</th>\n",
       "      <td>8</td>\n",
       "      <td>9</td>\n",
       "      <td>10</td>\n",
       "    </tr>\n",
       "    <tr>\n",
       "      <th>2012-12-25</th>\n",
       "      <td>12</td>\n",
       "      <td>13</td>\n",
       "      <td>14</td>\n",
       "    </tr>\n",
       "    <tr>\n",
       "      <th>2012-12-26</th>\n",
       "      <td>16</td>\n",
       "      <td>17</td>\n",
       "      <td>18</td>\n",
       "    </tr>\n",
       "    <tr>\n",
       "      <th>2012-12-27</th>\n",
       "      <td>20</td>\n",
       "      <td>21</td>\n",
       "      <td>22</td>\n",
       "    </tr>\n",
       "  </tbody>\n",
       "</table>\n",
       "</div>"
      ],
      "text/plain": [
       "             A   B   C\n",
       "2012-12-22   0   1   2\n",
       "2012-12-23   4   5   6\n",
       "2012-12-24   8   9  10\n",
       "2012-12-25  12  13  14\n",
       "2012-12-26  16  17  18\n",
       "2012-12-27  20  21  22"
      ]
     },
     "execution_count": 8,
     "metadata": {},
     "output_type": "execute_result"
    }
   ],
   "source": [
    "df.loc[:,'A':'C']"
   ]
  },
  {
   "cell_type": "code",
   "execution_count": null,
   "metadata": {},
   "outputs": [],
   "source": []
  }
 ],
 "metadata": {
  "kernelspec": {
   "display_name": "Python 3",
   "language": "python",
   "name": "python3"
  },
  "language_info": {
   "codemirror_mode": {
    "name": "ipython",
    "version": 3
   },
   "file_extension": ".py",
   "mimetype": "text/x-python",
   "name": "python",
   "nbconvert_exporter": "python",
   "pygments_lexer": "ipython3",
   "version": "3.7.0"
  }
 },
 "nbformat": 4,
 "nbformat_minor": 2
}
